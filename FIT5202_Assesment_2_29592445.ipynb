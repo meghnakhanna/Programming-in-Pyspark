{
 "cells": [
  {
   "cell_type": "markdown",
   "metadata": {},
   "source": [
    " # FIT5202 -Assessment 2"
   ]
  },
  {
   "cell_type": "markdown",
   "metadata": {},
   "source": [
    " <font color='light blue'>\n",
    " Name-Meghna Khanna <br>\n",
    " Student_ID-29592445<br>\n",
    " Unit Information- FIT5202 Assignment 2"
   ]
  },
  {
   "cell_type": "markdown",
   "metadata": {},
   "source": [
    "## Prediction Of Rain Tomorrow"
   ]
  },
  {
   "cell_type": "markdown",
   "metadata": {},
   "source": [
    "### A. Creating Spark Session and Loading the Data"
   ]
  },
  {
   "cell_type": "markdown",
   "metadata": {},
   "source": [
    "**Import required libraries** "
   ]
  },
  {
   "cell_type": "code",
   "execution_count": 55,
   "metadata": {},
   "outputs": [],
   "source": [
    "import pyspark.sql.functions as F\n",
    "from pyspark.sql.functions import isnan, when, count, col,avg\n",
    "from pyspark.ml.feature import OneHotEncoderEstimator, StringIndexer, VectorAssembler\n",
    "from pyspark.sql.types import DoubleType\n",
    "from pyspark.ml import Pipeline\n",
    "from pyspark.ml.classification import LogisticRegression\n",
    "from pyspark.ml.classification import DecisionTreeClassifier,RandomForestClassifier\n",
    "from pyspark.ml.evaluation import MulticlassClassificationEvaluator\n",
    "from pyspark.ml.classification import GBTClassifier\n",
    "import matplotlib.pyplot as plt\n",
    "import numpy as np\n"
   ]
  },
  {
   "cell_type": "markdown",
   "metadata": {},
   "source": [
    "#### Step 01: Import Spark Session and initialize Spark"
   ]
  },
  {
   "cell_type": "markdown",
   "metadata": {},
   "source": [
    "## SparkContext and SparkSession\n",
    "We will use and import **`SparkContext`** from **`pyspark`**, which was the main entry point for Spark Core functionality prior Spark 2.0 but now **`SparkSession`** provides a single point of entry to interact with underlying Spark functionality and allows programming Spark with DataFrame and Dataset APIs.\n",
    "A [DataFrame](https://spark.apache.org/docs/latest/api/python/pyspark.sql.html#pyspark.sql.DataFrame) is equivalent to a relational table in Spark SQL, and can be created using various functions in SparkSession. Once created, it can be manipulated using the various domain-specific-language (DSL) functions defined in: [DataFrame](https://spark.apache.org/docs/latest/api/python/pyspark.sql.html#pyspark.sql.DataFrame), [Column](https://spark.apache.org/docs/latest/api/python/pyspark.sql.html#pyspark.sql.Column).\n"
   ]
  },
  {
   "cell_type": "code",
   "execution_count": 56,
   "metadata": {},
   "outputs": [],
   "source": [
    "# create entry points to spark\n",
    "from pyspark import SparkContext # Spark\n",
    "from pyspark.sql import SparkSession # Spark SQL\n",
    "\n",
    "# We add this line to avoid an error : \"Cannot run multiple SparkContexts at once\". \n",
    "# If there is an existing spark context, we will reuse it instead of creating a new context.\n",
    "sc = SparkContext.getOrCreate()\n",
    "\n",
    "# local[4]: run Spark locally with 4 working processors as logical cores on your machine.\n",
    "# In the field of `master`, we use a local server with as many working processors (or threads) as possible (i.e. `local[4]`). \n",
    "# If we want Spark to run locally with 4 worker threads, we can specify as `local[4]`.\n",
    "# The `appName` field is a name to be shown on the Sparking cluster UI. \n",
    "\n",
    "# If there is no existing spark context, we now create a new context\n",
    "if (sc is None):\n",
    "    sc = SparkContext(master=\"local[4]\", appName=\"Rain predictions in Australia\")\n",
    "spark = SparkSession(sparkContext=sc)"
   ]
  },
  {
   "cell_type": "markdown",
   "metadata": {},
   "source": [
    "#### Step 02: Load the dataset and print the schema and total number of entries"
   ]
  },
  {
   "cell_type": "code",
   "execution_count": 57,
   "metadata": {},
   "outputs": [],
   "source": [
    "## The parameters that are used while loading the dataset are inferSchema which\n",
    "## is to infer the original features of the dataset and load the dataset \n",
    "## with it soriginal headers and as we are specifiying that the nullValues are\n",
    "## represented as NA in this dataset it identifies the actual datatypes of the\n",
    "## column values but if that parameter is removed it identifies all the columns with\n",
    "## nullvalues as string as NA is a string value and the function cannot identify\n",
    "## the nullvalues as NA, hence we used the nullValue paramter, to make it \n",
    "## easier in data transformation steps.\n",
    "\n",
    "df = spark.read.csv(\"weatherAUS.csv\", inferSchema=True, header=True,nullValue='NA')"
   ]
  },
  {
   "cell_type": "code",
   "execution_count": 4,
   "metadata": {},
   "outputs": [
    {
     "data": {
      "text/plain": [
       "[('Date', 'timestamp'),\n",
       " ('Location', 'string'),\n",
       " ('MinTemp', 'double'),\n",
       " ('MaxTemp', 'double'),\n",
       " ('Rainfall', 'double'),\n",
       " ('Evaporation', 'double'),\n",
       " ('Sunshine', 'double'),\n",
       " ('WindGustDir', 'string'),\n",
       " ('WindGustSpeed', 'int'),\n",
       " ('WindDir9am', 'string'),\n",
       " ('WindDir3pm', 'string'),\n",
       " ('WindSpeed9am', 'int'),\n",
       " ('WindSpeed3pm', 'int'),\n",
       " ('Humidity9am', 'int'),\n",
       " ('Humidity3pm', 'int'),\n",
       " ('Pressure9am', 'double'),\n",
       " ('Pressure3pm', 'double'),\n",
       " ('Cloud9am', 'int'),\n",
       " ('Cloud3pm', 'int'),\n",
       " ('Temp9am', 'double'),\n",
       " ('Temp3pm', 'double'),\n",
       " ('RainToday', 'string'),\n",
       " ('RainTomorrow', 'string')]"
      ]
     },
     "execution_count": 4,
     "metadata": {},
     "output_type": "execute_result"
    }
   ],
   "source": [
    "df.dtypes"
   ]
  },
  {
   "cell_type": "code",
   "execution_count": 5,
   "metadata": {},
   "outputs": [
    {
     "name": "stdout",
     "output_type": "stream",
     "text": [
      "+-------------------+--------+-------+-------+--------+-----------+--------+-----------+-------------+----------+----------+------------+------------+-----------+-----------+-----------+-----------+--------+--------+-------+-------+---------+------------+\n",
      "|Date               |Location|MinTemp|MaxTemp|Rainfall|Evaporation|Sunshine|WindGustDir|WindGustSpeed|WindDir9am|WindDir3pm|WindSpeed9am|WindSpeed3pm|Humidity9am|Humidity3pm|Pressure9am|Pressure3pm|Cloud9am|Cloud3pm|Temp9am|Temp3pm|RainToday|RainTomorrow|\n",
      "+-------------------+--------+-------+-------+--------+-----------+--------+-----------+-------------+----------+----------+------------+------------+-----------+-----------+-----------+-----------+--------+--------+-------+-------+---------+------------+\n",
      "|2008-12-01 00:00:00|Albury  |13.4   |22.9   |0.6     |null       |null    |W          |44           |W         |WNW       |20          |24          |71         |22         |1007.7     |1007.1     |8       |null    |16.9   |21.8   |No       |No          |\n",
      "|2008-12-02 00:00:00|Albury  |7.4    |25.1   |0.0     |null       |null    |WNW        |44           |NNW       |WSW       |4           |22          |44         |25         |1010.6     |1007.8     |null    |null    |17.2   |24.3   |No       |No          |\n",
      "|2008-12-03 00:00:00|Albury  |12.9   |25.7   |0.0     |null       |null    |WSW        |46           |W         |WSW       |19          |26          |38         |30         |1007.6     |1008.7     |null    |2       |21.0   |23.2   |No       |No          |\n",
      "|2008-12-04 00:00:00|Albury  |9.2    |28.0   |0.0     |null       |null    |NE         |24           |SE        |E         |11          |9           |45         |16         |1017.6     |1012.8     |null    |null    |18.1   |26.5   |No       |No          |\n",
      "|2008-12-05 00:00:00|Albury  |17.5   |32.3   |1.0     |null       |null    |W          |41           |ENE       |NW        |7           |20          |82         |33         |1010.8     |1006.0     |7       |8       |17.8   |29.7   |No       |No          |\n",
      "+-------------------+--------+-------+-------+--------+-----------+--------+-----------+-------------+----------+----------+------------+------------+-----------+-----------+-----------+-----------+--------+--------+-------+-------+---------+------------+\n",
      "only showing top 5 rows\n",
      "\n"
     ]
    },
    {
     "data": {
      "text/plain": [
       "['Date',\n",
       " 'Location',\n",
       " 'MinTemp',\n",
       " 'MaxTemp',\n",
       " 'Rainfall',\n",
       " 'Evaporation',\n",
       " 'Sunshine',\n",
       " 'WindGustDir',\n",
       " 'WindGustSpeed',\n",
       " 'WindDir9am',\n",
       " 'WindDir3pm',\n",
       " 'WindSpeed9am',\n",
       " 'WindSpeed3pm',\n",
       " 'Humidity9am',\n",
       " 'Humidity3pm',\n",
       " 'Pressure9am',\n",
       " 'Pressure3pm',\n",
       " 'Cloud9am',\n",
       " 'Cloud3pm',\n",
       " 'Temp9am',\n",
       " 'Temp3pm',\n",
       " 'RainToday',\n",
       " 'RainTomorrow']"
      ]
     },
     "execution_count": 5,
     "metadata": {},
     "output_type": "execute_result"
    }
   ],
   "source": [
    "df.show(n=5, truncate=False)  # Displays the top 5 rows of the weather datasset\n",
    "df.columns  # Displays all the column names "
   ]
  },
  {
   "cell_type": "markdown",
   "metadata": {},
   "source": [
    "### Information of the dataset\n",
    "- `Date` - timestamp of a certain day with certain weather conditions\n",
    "- `Location` - location of the weather report.\n",
    "- `MinTemp` - Mininum Temperature on that specific date .\n",
    "- `MaxTemp` - Maximum Temperature on that specific date.\n",
    "- `Rainfall` - Amount of rainfall on that specific date in mm.\n",
    "- `Evaporation` - Evaporation on that specific date.\n",
    "- `Sunshine` - How bright was the sun on that specific date. \n",
    "- `WindGustDir` - Wind direction on that specific date.\n",
    "- `WindDir9am` - Wind Direction at 9 am.\n",
    "- `WindDir3pm` - Wind Direction at 3 pm.\n",
    "- `WindSpeed9am` - Wind Direction at 9 am.\n",
    "- `WindSpeed3pm` - Speed of wind at 3 pm.\n",
    "- `Humidity9am` - Humidity at 9 am.\n",
    "- `Humidity3pm` - Humidity at 3 pm.\n",
    "- `Pressure9am` - Wind pressure at 9 am.\n",
    "- `Pressure3pm` - Wind Pressure at 3pm.\n",
    "- `Cloud9am` - Amount of clouds at 9 am.\n",
    "- `Cloud3pm` - Amount of clouds at 3 pm.\n",
    "- `Temp9am` - Temperature at 9 am.\n",
    "- `Temp3pm` - Temperature at 3pm.\n",
    "- `RainToday` - Categorical variable displaying if it rained today as a Yes/No.\n",
    "- `RainTomorrow` - Categorical variable that displays if it rained tomorrow in form of a \n",
    "Yes/No."
   ]
  },
  {
   "cell_type": "markdown",
   "metadata": {},
   "source": [
    "##### Print the total number of entries in the dataset"
   ]
  },
  {
   "cell_type": "code",
   "execution_count": 6,
   "metadata": {},
   "outputs": [
    {
     "name": "stdout",
     "output_type": "stream",
     "text": [
      "The number of records in the weather dataset are: 142193\n"
     ]
    }
   ],
   "source": [
    "# The number of records or rows in dataframe\n",
    "\n",
    "print(\"The number of records in the weather dataset are:\", df.count())"
   ]
  },
  {
   "cell_type": "markdown",
   "metadata": {},
   "source": [
    "### B. Data Cleaning and Processing"
   ]
  },
  {
   "cell_type": "markdown",
   "metadata": {},
   "source": [
    "#### Step 03: Delete columns from the dataset"
   ]
  },
  {
   "cell_type": "code",
   "execution_count": 7,
   "metadata": {},
   "outputs": [],
   "source": [
    "# Created a list of columns that were needed to be dropped as they were not\n",
    "# of any importance and were not valuable features for our classification models \n",
    "drop_list = ['Date', 'Location', 'Evaporation', 'Sunshine', 'Cloud9am', 'Cloud3pm',\\\n",
    "             'Temp9am','Temp3pm']\n",
    "\n",
    "\n",
    "data = df.select([column for column in df.columns if column not in drop_list])\n"
   ]
  },
  {
   "cell_type": "code",
   "execution_count": 8,
   "metadata": {},
   "outputs": [
    {
     "name": "stdout",
     "output_type": "stream",
     "text": [
      "+-------+-------+--------+-----------+-------------+----------+----------+------------+------------+-----------+-----------+-----------+-----------+---------+------------+\n",
      "|MinTemp|MaxTemp|Rainfall|WindGustDir|WindGustSpeed|WindDir9am|WindDir3pm|WindSpeed9am|WindSpeed3pm|Humidity9am|Humidity3pm|Pressure9am|Pressure3pm|RainToday|RainTomorrow|\n",
      "+-------+-------+--------+-----------+-------------+----------+----------+------------+------------+-----------+-----------+-----------+-----------+---------+------------+\n",
      "|13.4   |22.9   |0.6     |W          |44           |W         |WNW       |20          |24          |71         |22         |1007.7     |1007.1     |No       |No          |\n",
      "|7.4    |25.1   |0.0     |WNW        |44           |NNW       |WSW       |4           |22          |44         |25         |1010.6     |1007.8     |No       |No          |\n",
      "|12.9   |25.7   |0.0     |WSW        |46           |W         |WSW       |19          |26          |38         |30         |1007.6     |1008.7     |No       |No          |\n",
      "|9.2    |28.0   |0.0     |NE         |24           |SE        |E         |11          |9           |45         |16         |1017.6     |1012.8     |No       |No          |\n",
      "|17.5   |32.3   |1.0     |W          |41           |ENE       |NW        |7           |20          |82         |33         |1010.8     |1006.0     |No       |No          |\n",
      "|14.6   |29.7   |0.2     |WNW        |56           |W         |W         |19          |24          |55         |23         |1009.2     |1005.4     |No       |No          |\n",
      "|14.3   |25.0   |0.0     |W          |50           |SW        |W         |20          |24          |49         |19         |1009.6     |1008.2     |No       |No          |\n",
      "|7.7    |26.7   |0.0     |W          |35           |SSE       |W         |6           |17          |48         |19         |1013.4     |1010.1     |No       |No          |\n",
      "|9.7    |31.9   |0.0     |NNW        |80           |SE        |NW        |7           |28          |42         |9          |1008.9     |1003.6     |No       |Yes         |\n",
      "|13.1   |30.1   |1.4     |W          |28           |S         |SSE       |15          |11          |58         |27         |1007.0     |1005.7     |Yes      |No          |\n",
      "|13.4   |30.4   |0.0     |N          |30           |SSE       |ESE       |17          |6           |48         |22         |1011.8     |1008.7     |No       |Yes         |\n",
      "|15.9   |21.7   |2.2     |NNE        |31           |NE        |ENE       |15          |13          |89         |91         |1010.5     |1004.2     |Yes      |Yes         |\n",
      "|15.9   |18.6   |15.6    |W          |61           |NNW       |NNW       |28          |28          |76         |93         |994.3      |993.0      |Yes      |Yes         |\n",
      "|12.6   |21.0   |3.6     |SW         |44           |W         |SSW       |24          |20          |65         |43         |1001.2     |1001.8     |Yes      |No          |\n",
      "|9.8    |27.7   |null    |WNW        |50           |null      |WNW       |null        |22          |50         |28         |1013.4     |1010.3     |null     |No          |\n",
      "|14.1   |20.9   |0.0     |ENE        |22           |SSW       |E         |11          |9           |69         |82         |1012.2     |1010.4     |No       |Yes         |\n",
      "|13.5   |22.9   |16.8    |W          |63           |N         |WNW       |6           |20          |80         |65         |1005.8     |1002.2     |Yes      |Yes         |\n",
      "|11.2   |22.5   |10.6    |SSE        |43           |WSW       |SW        |24          |17          |47         |32         |1009.4     |1009.7     |Yes      |No          |\n",
      "|9.8    |25.6   |0.0     |SSE        |26           |SE        |NNW       |17          |6           |45         |26         |1019.2     |1017.1     |No       |No          |\n",
      "|11.5   |29.3   |0.0     |S          |24           |SE        |SE        |9           |9           |56         |28         |1019.3     |1014.8     |No       |No          |\n",
      "+-------+-------+--------+-----------+-------------+----------+----------+------------+------------+-----------+-----------+-----------+-----------+---------+------------+\n",
      "only showing top 20 rows\n",
      "\n"
     ]
    }
   ],
   "source": [
    "#display the dataframe after having deleted the unwanted columns\n",
    "data.show(truncate=False) "
   ]
  },
  {
   "cell_type": "code",
   "execution_count": 9,
   "metadata": {},
   "outputs": [],
   "source": [
    "cols=data.columns"
   ]
  },
  {
   "cell_type": "markdown",
   "metadata": {},
   "source": [
    "#### Step 04: Print the number of missing data in each column."
   ]
  },
  {
   "cell_type": "code",
   "execution_count": 10,
   "metadata": {},
   "outputs": [
    {
     "name": "stdout",
     "output_type": "stream",
     "text": [
      "-RECORD 0--------------\n",
      " MinTemp       | 637   \n",
      " MaxTemp       | 322   \n",
      " Rainfall      | 1406  \n",
      " WindGustDir   | 9330  \n",
      " WindGustSpeed | 9270  \n",
      " WindDir9am    | 10013 \n",
      " WindDir3pm    | 3778  \n",
      " WindSpeed9am  | 1348  \n",
      " WindSpeed3pm  | 2630  \n",
      " Humidity9am   | 1774  \n",
      " Humidity3pm   | 3610  \n",
      " Pressure9am   | 14014 \n",
      " Pressure3pm   | 13981 \n",
      " RainToday     | 1406  \n",
      " RainTomorrow  | 0     \n",
      "\n"
     ]
    }
   ],
   "source": [
    "data.select([count(when(isnan(c) | col(c).isNull(), c)).alias(c) for c in data.columns]).show(vertical=True)"
   ]
  },
  {
   "cell_type": "markdown",
   "metadata": {},
   "source": [
    "As we can see the only column that has no null values is the target variable or the variable that is to be predicted using the other variables as features or predictors and  they have many missing values and they need to be either removed or replaced with the most appropraite/approximate values to the oringinal values as it is assumed they are missing completely at random(MCAR)."
   ]
  },
  {
   "cell_type": "markdown",
   "metadata": {},
   "source": [
    "#### Step 05: Fill the missing data with average value and maximum occurrence value."
   ]
  },
  {
   "cell_type": "markdown",
   "metadata": {},
   "source": [
    "#### The aim of this step is remove any Null values/missing data that is assumed missing to be missing completely at random(MCAR). <br>\n",
    "`Firstly, we identify the columns which have numeric values (e.g., MinTemp, MaxTemp),\n",
    "calculate the average and fill the null value with the average.We already have displayed the datatypesof the dataset that is loaded for preprocessing and as we specified nullvalue as NA all the columns are read as their original schema attributes and the numerical columns are the columns which have either integer or double datatypes that are:`\n",
    "* MinTemp,\n",
    "* MaxTemp,\n",
    "* Rainfall,\n",
    "* WindGustSpeed,\n",
    "* WindSpeed9am,\n",
    "* WindSpeed3pm,\n",
    "* Humidity9am,\n",
    "* Humidity3pm,\n",
    "* Pressure9am,\n",
    "* Pressure3pm,\n",
    "\n",
    "\n",
    "`Secondly, we identify the columns with non-numeric values (e.g., WindGustDir, WindDir9am)and find the ​ most ​ frequent item (e.g., wind direction). Now fill the null values with that item for that particular column.We already know that the columns that have string datatype are te categorical values/non-numerical values.They are :`\n",
    "* WindGustDir,\n",
    "* WindDir9am,\n",
    "* WindDir3pm,\n",
    "* RainToday,\n",
    "* RainTomorrow."
   ]
  },
  {
   "cell_type": "code",
   "execution_count": 11,
   "metadata": {},
   "outputs": [],
   "source": [
    "## Here x is the column and t is the datatype so we impute the string columns\n",
    "## with maximum occuring value in that column basically value with highest frequency\n",
    "## so for that imputation we groupby the colums and then orderby the frequencies/\n",
    "## count in descending order and take the first value in that dataframe,\n",
    "## and then using na.fill to fill that frequency to that column;\n",
    "## Similarly for non-string columns the average is rounded and imputed to the\n",
    "## non-numeric columns with null values.\n",
    "\n",
    "for x, t in data.dtypes:\n",
    "    if t==\"string\":\n",
    "            i=data.groupby(x).count().orderBy('count',ascending=False).first()[0]\n",
    "            data=data.na.fill({x: i})\n",
    "    else:\n",
    "        average=data.select(x).agg(avg(x)).first()[0], [x]\n",
    "        rounded_avg=round(average[0],1)\n",
    "        data=data.na.fill({x: rounded_avg})\n",
    "        "
   ]
  },
  {
   "cell_type": "code",
   "execution_count": 12,
   "metadata": {},
   "outputs": [
    {
     "name": "stdout",
     "output_type": "stream",
     "text": [
      "-RECORD 0------------\n",
      " MinTemp       | 0   \n",
      " MaxTemp       | 0   \n",
      " Rainfall      | 0   \n",
      " WindGustDir   | 0   \n",
      " WindGustSpeed | 0   \n",
      " WindDir9am    | 0   \n",
      " WindDir3pm    | 0   \n",
      " WindSpeed9am  | 0   \n",
      " WindSpeed3pm  | 0   \n",
      " Humidity9am   | 0   \n",
      " Humidity3pm   | 0   \n",
      " Pressure9am   | 0   \n",
      " Pressure3pm   | 0   \n",
      " RainToday     | 0   \n",
      " RainTomorrow  | 0   \n",
      "\n"
     ]
    }
   ],
   "source": [
    "data.select([count(when(isnan(c) | col(c).isNull(), c)).alias(c) for c in data.columns]).show(vertical=True)"
   ]
  },
  {
   "cell_type": "markdown",
   "metadata": {},
   "source": [
    "As we can see the values have been successfully imputed and no null values remain."
   ]
  },
  {
   "cell_type": "markdown",
   "metadata": {},
   "source": [
    "### Step 06: Data transformation"
   ]
  },
  {
   "cell_type": "markdown",
   "metadata": {},
   "source": [
    "Here the aim of this step is to perform the following tasks: <br>\n",
    "* ` type cast the numerical value columns to double;`\n",
    "* ` For the non-numerical value column (i.e., WindGustDir,WindDir9am, WindDir3pm, RainTomorrow) use the StringIndexer method to convert them into numbers.`"
   ]
  },
  {
   "cell_type": "code",
   "execution_count": 13,
   "metadata": {},
   "outputs": [],
   "source": [
    "# converting the integer columns to double type\n",
    "for x,t in data.dtypes:\n",
    "    if t !=\"string\":\n",
    "        data=data.withColumn(x, data[x].cast(\"Double\"))\n"
   ]
  },
  {
   "cell_type": "code",
   "execution_count": 14,
   "metadata": {},
   "outputs": [
    {
     "name": "stdout",
     "output_type": "stream",
     "text": [
      "root\n",
      " |-- MinTemp: double (nullable = false)\n",
      " |-- MaxTemp: double (nullable = false)\n",
      " |-- Rainfall: double (nullable = false)\n",
      " |-- WindGustDir: string (nullable = false)\n",
      " |-- WindGustSpeed: double (nullable = true)\n",
      " |-- WindDir9am: string (nullable = false)\n",
      " |-- WindDir3pm: string (nullable = false)\n",
      " |-- WindSpeed9am: double (nullable = true)\n",
      " |-- WindSpeed3pm: double (nullable = true)\n",
      " |-- Humidity9am: double (nullable = true)\n",
      " |-- Humidity3pm: double (nullable = true)\n",
      " |-- Pressure9am: double (nullable = false)\n",
      " |-- Pressure3pm: double (nullable = false)\n",
      " |-- RainToday: string (nullable = false)\n",
      " |-- RainTomorrow: string (nullable = false)\n",
      "\n"
     ]
    }
   ],
   "source": [
    "data.printSchema() \n",
    "# the numeric columns are of double data type , the integer columns \n",
    "# also got converted to double"
   ]
  },
  {
   "cell_type": "code",
   "execution_count": 15,
   "metadata": {},
   "outputs": [],
   "source": [
    "# Here, we write a code to create two separate lists for categorical columns and \n",
    "## numerial columns as it will be easier to perform transformations as the \n",
    "## transformations would be different for categorical columns and \n",
    "## numerical columns.\n",
    "\n",
    "categoricalcols=[]\n",
    "numericCols=[]\n",
    "for x,t in data.dtypes:\n",
    "    if t == \"string\":\n",
    "        categoricalcols.append(x)\n",
    "    else:\n",
    "        numericCols.append(x)"
   ]
  },
  {
   "cell_type": "code",
   "execution_count": 16,
   "metadata": {},
   "outputs": [
    {
     "data": {
      "text/plain": [
       "['WindGustDir', 'WindDir9am', 'WindDir3pm', 'RainToday']"
      ]
     },
     "execution_count": 16,
     "metadata": {},
     "output_type": "execute_result"
    }
   ],
   "source": [
    "## These are the categorical columns with Rain Tomorrow being the target variable\n",
    "## store all variables except the target variable, since it is a binary class\n",
    "## column we will only do String Indexing on it and since the other features are\n",
    "## muliclass and not ordinal we perform One-Hot Encoding too, as one hot encoding \n",
    "## needs continuous variables not discrete, one hot discretizes the features. \n",
    "categoricalColumns = categoricalcols[:-1]\n",
    "categoricalColumns"
   ]
  },
  {
   "cell_type": "code",
   "execution_count": 17,
   "metadata": {},
   "outputs": [
    {
     "data": {
      "text/plain": [
       "['MinTemp',\n",
       " 'MaxTemp',\n",
       " 'Rainfall',\n",
       " 'WindGustSpeed',\n",
       " 'WindSpeed9am',\n",
       " 'WindSpeed3pm',\n",
       " 'Humidity9am',\n",
       " 'Humidity3pm',\n",
       " 'Pressure9am',\n",
       " 'Pressure3pm']"
      ]
     },
     "execution_count": 17,
     "metadata": {},
     "output_type": "execute_result"
    }
   ],
   "source": [
    "numericCols  # view of the numeric columns"
   ]
  },
  {
   "cell_type": "markdown",
   "metadata": {},
   "source": [
    "#### Indexing the category list in two stages"
   ]
  },
  {
   "cell_type": "code",
   "execution_count": 18,
   "metadata": {},
   "outputs": [],
   "source": [
    "stages=[]\n",
    "for categoricalCol in categoricalColumns:\n",
    "    # Assigning a numeric index value to each category\n",
    "    # Why do you do this: to sequence between categories\n",
    "    stringIndexer = StringIndexer(inputCol = categoricalCol, outputCol = categoricalCol + 'Index')\n",
    "    \n",
    "    \n",
    "    #Convert indexed categories to one-hot encoded variables (classVec)\n",
    "    encoder = OneHotEncoderEstimator(inputCols=[stringIndexer.getOutputCol()], outputCols=[categoricalCol + \"classVec\"])\n",
    "    #When printing steps, a binary vector is added to the end of each line.\n",
    "    stages += [stringIndexer, encoder]"
   ]
  },
  {
   "cell_type": "markdown",
   "metadata": {},
   "source": [
    "*The reason we performed string indexing and one hot encoding on the categorical columns\n",
    "is that string indexing assigns 0 to the most frequent value , then 1 to second frequent which is a problem with label encoding as it assumes that higher the categorical value, better the category, and that makes the model biased and would give a bad test accuracy that is why we use one hot encoder to perform “binarization” of the category and include it as a feature to train the model.*"
   ]
  },
  {
   "cell_type": "markdown",
   "metadata": {},
   "source": [
    "#### Encode the label value into label_stringIdx"
   ]
  },
  {
   "cell_type": "markdown",
   "metadata": {},
   "source": [
    "*String index the target value we do not need to perform one_hot encoding on it just string indexing since it has 2 classes.*"
   ]
  },
  {
   "cell_type": "code",
   "execution_count": 19,
   "metadata": {},
   "outputs": [],
   "source": [
    "##  Here we string index the target variable that is Rain Tomorrow and string \n",
    "## imdexing is then applied to all the values of Rain Tomorrow for each record.\n",
    "\n",
    "\n",
    "label_stringIdx = StringIndexer(inputCol = 'RainTomorrow', outputCol = 'label')\n",
    "stages += [label_stringIdx]\n",
    "## Here all the features which are now one hot encoded and string indexed and \n",
    "## are now ready to be passed to the vector assembler\n",
    "assemblerInputs = [c + \"classVec\" for c in categoricalColumns] + numericCols"
   ]
  },
  {
   "cell_type": "markdown",
   "metadata": {},
   "source": [
    "### Step 07: Create the feature vector and divide the dataset"
   ]
  },
  {
   "cell_type": "markdown",
   "metadata": {},
   "source": [
    "#### Bind all feature columns"
   ]
  },
  {
   "cell_type": "code",
   "execution_count": 20,
   "metadata": {},
   "outputs": [],
   "source": [
    "## Here all the features with classVec in the column name are combined\n",
    "## to one vector whcih will be stored in the features column \n",
    "\n",
    "assembler = VectorAssembler(inputCols = assemblerInputs, outputCol=\"features\")\n",
    "## stages basically consists of the pipeline stages that is basically first\n",
    "## string indexing then one hot encoding\n",
    "stages += [assembler]\n"
   ]
  },
  {
   "cell_type": "code",
   "execution_count": 21,
   "metadata": {},
   "outputs": [
    {
     "data": {
      "text/plain": [
       "[StringIndexer_e946db91640b,\n",
       " OneHotEncoderEstimator_237a0507a622,\n",
       " StringIndexer_8f03b63701b1,\n",
       " OneHotEncoderEstimator_1903ccac5015,\n",
       " StringIndexer_5ebd8efc3d3d,\n",
       " OneHotEncoderEstimator_97912d11bd36,\n",
       " StringIndexer_d856ff0bc463,\n",
       " OneHotEncoderEstimator_685adb99b219,\n",
       " StringIndexer_e93469d60823,\n",
       " VectorAssembler_088082d87b5c]"
      ]
     },
     "execution_count": 21,
     "metadata": {},
     "output_type": "execute_result"
    }
   ],
   "source": [
    "## It is the pipeline applied to the categorical features which we have 5 of\n",
    "stages"
   ]
  },
  {
   "cell_type": "markdown",
   "metadata": {},
   "source": [
    "#### Apply the pipeline of string indexing and one_hot ending to all the feature variables "
   ]
  },
  {
   "cell_type": "code",
   "execution_count": 22,
   "metadata": {},
   "outputs": [],
   "source": [
    "## Here the stages of the pipeline which was stored in stages will now be passed\n",
    "## to Pipeline which will create a pipeline with the these stages.\n",
    "\n",
    "pipeline = Pipeline(stages = stages)\n",
    "##Here the pipeline is now fit to the original dataframe .\n",
    "pipelineModel = pipeline.fit(data)\n",
    "## Here the pipeline is then applied to the weather dataframe and the dataframe is\n",
    "## then transformed in terms of the pipeline .\n",
    "data = pipelineModel.transform(data)"
   ]
  },
  {
   "cell_type": "code",
   "execution_count": 23,
   "metadata": {},
   "outputs": [
    {
     "name": "stdout",
     "output_type": "stream",
     "text": [
      "-RECORD 0-------------------------------------------------------------------------------------------------------------------------------------\n",
      " MinTemp             | 13.4                                                                                                                   \n",
      " MaxTemp             | 22.9                                                                                                                   \n",
      " Rainfall            | 0.6                                                                                                                    \n",
      " WindGustDir         | W                                                                                                                      \n",
      " WindGustSpeed       | 44.0                                                                                                                   \n",
      " WindDir9am          | W                                                                                                                      \n",
      " WindDir3pm          | WNW                                                                                                                    \n",
      " WindSpeed9am        | 20.0                                                                                                                   \n",
      " WindSpeed3pm        | 24.0                                                                                                                   \n",
      " Humidity9am         | 71.0                                                                                                                   \n",
      " Humidity3pm         | 22.0                                                                                                                   \n",
      " Pressure9am         | 1007.7                                                                                                                 \n",
      " Pressure3pm         | 1007.1                                                                                                                 \n",
      " RainToday           | No                                                                                                                     \n",
      " RainTomorrow        | No                                                                                                                     \n",
      " WindGustDirIndex    | 0.0                                                                                                                    \n",
      " WindGustDirclassVec | (15,[0],[1.0])                                                                                                         \n",
      " WindDir9amIndex     | 6.0                                                                                                                    \n",
      " WindDir9amclassVec  | (15,[6],[1.0])                                                                                                         \n",
      " WindDir3pmIndex     | 7.0                                                                                                                    \n",
      " WindDir3pmclassVec  | (15,[7],[1.0])                                                                                                         \n",
      " RainTodayIndex      | 0.0                                                                                                                    \n",
      " RainTodayclassVec   | (1,[0],[1.0])                                                                                                          \n",
      " label               | 0.0                                                                                                                    \n",
      " features            | (56,[0,21,37,45,46,47,48,49,50,51,52,53,54,55],[1.0,1.0,1.0,1.0,13.4,22.9,0.6,44.0,20.0,24.0,71.0,22.0,1007.7,1007.1]) \n",
      "-RECORD 1-------------------------------------------------------------------------------------------------------------------------------------\n",
      " MinTemp             | 7.4                                                                                                                    \n",
      " MaxTemp             | 25.1                                                                                                                   \n",
      " Rainfall            | 0.0                                                                                                                    \n",
      " WindGustDir         | WNW                                                                                                                    \n",
      " WindGustSpeed       | 44.0                                                                                                                   \n",
      " WindDir9am          | NNW                                                                                                                    \n",
      " WindDir3pm          | WSW                                                                                                                    \n",
      " WindSpeed9am        | 4.0                                                                                                                    \n",
      " WindSpeed3pm        | 22.0                                                                                                                   \n",
      " Humidity9am         | 44.0                                                                                                                   \n",
      " Humidity3pm         | 25.0                                                                                                                   \n",
      " Pressure9am         | 1010.6                                                                                                                 \n",
      " Pressure3pm         | 1007.8                                                                                                                 \n",
      " RainToday           | No                                                                                                                     \n",
      " RainTomorrow        | No                                                                                                                     \n",
      " WindGustDirIndex    | 9.0                                                                                                                    \n",
      " WindGustDirclassVec | (15,[9],[1.0])                                                                                                         \n",
      " WindDir9amIndex     | 9.0                                                                                                                    \n",
      " WindDir9amclassVec  | (15,[9],[1.0])                                                                                                         \n",
      " WindDir3pmIndex     | 3.0                                                                                                                    \n",
      " WindDir3pmclassVec  | (15,[3],[1.0])                                                                                                         \n",
      " RainTodayIndex      | 0.0                                                                                                                    \n",
      " RainTodayclassVec   | (1,[0],[1.0])                                                                                                          \n",
      " label               | 0.0                                                                                                                    \n",
      " features            | (56,[9,24,33,45,46,47,49,50,51,52,53,54,55],[1.0,1.0,1.0,1.0,7.4,25.1,44.0,4.0,22.0,44.0,25.0,1010.6,1007.8])          \n",
      "-RECORD 2-------------------------------------------------------------------------------------------------------------------------------------\n",
      " MinTemp             | 12.9                                                                                                                   \n",
      " MaxTemp             | 25.7                                                                                                                   \n",
      " Rainfall            | 0.0                                                                                                                    \n",
      " WindGustDir         | WSW                                                                                                                    \n",
      " WindGustSpeed       | 46.0                                                                                                                   \n",
      " WindDir9am          | W                                                                                                                      \n",
      " WindDir3pm          | WSW                                                                                                                    \n",
      " WindSpeed9am        | 19.0                                                                                                                   \n",
      " WindSpeed3pm        | 26.0                                                                                                                   \n",
      " Humidity9am         | 38.0                                                                                                                   \n",
      " Humidity3pm         | 30.0                                                                                                                   \n",
      " Pressure9am         | 1007.6                                                                                                                 \n",
      " Pressure3pm         | 1008.7                                                                                                                 \n",
      " RainToday           | No                                                                                                                     \n",
      " RainTomorrow        | No                                                                                                                     \n",
      " WindGustDirIndex    | 6.0                                                                                                                    \n",
      " WindGustDirclassVec | (15,[6],[1.0])                                                                                                         \n",
      " WindDir9amIndex     | 6.0                                                                                                                    \n",
      " WindDir9amclassVec  | (15,[6],[1.0])                                                                                                         \n",
      " WindDir3pmIndex     | 3.0                                                                                                                    \n",
      " WindDir3pmclassVec  | (15,[3],[1.0])                                                                                                         \n",
      " RainTodayIndex      | 0.0                                                                                                                    \n",
      " RainTodayclassVec   | (1,[0],[1.0])                                                                                                          \n",
      " label               | 0.0                                                                                                                    \n",
      " features            | (56,[6,21,33,45,46,47,49,50,51,52,53,54,55],[1.0,1.0,1.0,1.0,12.9,25.7,46.0,19.0,26.0,38.0,30.0,1007.6,1008.7])        \n",
      "-RECORD 3-------------------------------------------------------------------------------------------------------------------------------------\n",
      " MinTemp             | 9.2                                                                                                                    \n",
      " MaxTemp             | 28.0                                                                                                                   \n",
      " Rainfall            | 0.0                                                                                                                    \n",
      " WindGustDir         | NE                                                                                                                     \n",
      " WindGustSpeed       | 24.0                                                                                                                   \n",
      " WindDir9am          | SE                                                                                                                     \n",
      " WindDir3pm          | E                                                                                                                      \n",
      " WindSpeed9am        | 11.0                                                                                                                   \n",
      " WindSpeed3pm        | 9.0                                                                                                                    \n",
      " Humidity9am         | 45.0                                                                                                                   \n",
      " Humidity3pm         | 16.0                                                                                                                   \n",
      " Pressure9am         | 1017.6                                                                                                                 \n",
      " Pressure3pm         | 1012.8                                                                                                                 \n",
      " RainToday           | No                                                                                                                     \n",
      " RainTomorrow        | No                                                                                                                     \n",
      " WindGustDirIndex    | 13.0                                                                                                                   \n",
      " WindGustDirclassVec | (15,[13],[1.0])                                                                                                        \n",
      " WindDir9amIndex     | 1.0                                                                                                                    \n",
      " WindDir9amclassVec  | (15,[1],[1.0])                                                                                                         \n",
      " WindDir3pmIndex     | 10.0                                                                                                                   \n",
      " WindDir3pmclassVec  | (15,[10],[1.0])                                                                                                        \n",
      " RainTodayIndex      | 0.0                                                                                                                    \n",
      " RainTodayclassVec   | (1,[0],[1.0])                                                                                                          \n",
      " label               | 0.0                                                                                                                    \n",
      " features            | (56,[13,16,40,45,46,47,49,50,51,52,53,54,55],[1.0,1.0,1.0,1.0,9.2,28.0,24.0,11.0,9.0,45.0,16.0,1017.6,1012.8])         \n",
      "-RECORD 4-------------------------------------------------------------------------------------------------------------------------------------\n",
      " MinTemp             | 17.5                                                                                                                   \n",
      " MaxTemp             | 32.3                                                                                                                   \n",
      " Rainfall            | 1.0                                                                                                                    \n",
      " WindGustDir         | W                                                                                                                      \n",
      " WindGustSpeed       | 41.0                                                                                                                   \n",
      " WindDir9am          | ENE                                                                                                                    \n",
      " WindDir3pm          | NW                                                                                                                     \n",
      " WindSpeed9am        | 7.0                                                                                                                    \n",
      " WindSpeed3pm        | 20.0                                                                                                                   \n",
      " Humidity9am         | 82.0                                                                                                                   \n",
      " Humidity3pm         | 33.0                                                                                                                   \n",
      " Pressure9am         | 1010.8                                                                                                                 \n",
      " Pressure3pm         | 1006.0                                                                                                                 \n",
      " RainToday           | No                                                                                                                     \n",
      " RainTomorrow        | No                                                                                                                     \n",
      " WindGustDirIndex    | 0.0                                                                                                                    \n",
      " WindGustDirclassVec | (15,[0],[1.0])                                                                                                         \n",
      " WindDir9amIndex     | 10.0                                                                                                                   \n",
      " WindDir9amclassVec  | (15,[10],[1.0])                                                                                                        \n",
      " WindDir3pmIndex     | 8.0                                                                                                                    \n",
      " WindDir3pmclassVec  | (15,[8],[1.0])                                                                                                         \n",
      " RainTodayIndex      | 0.0                                                                                                                    \n",
      " RainTodayclassVec   | (1,[0],[1.0])                                                                                                          \n",
      " label               | 0.0                                                                                                                    \n",
      " features            | (56,[0,25,38,45,46,47,48,49,50,51,52,53,54,55],[1.0,1.0,1.0,1.0,17.5,32.3,1.0,41.0,7.0,20.0,82.0,33.0,1010.8,1006.0])  \n",
      "-RECORD 5-------------------------------------------------------------------------------------------------------------------------------------\n",
      " MinTemp             | 14.6                                                                                                                   \n",
      " MaxTemp             | 29.7                                                                                                                   \n",
      " Rainfall            | 0.2                                                                                                                    \n",
      " WindGustDir         | WNW                                                                                                                    \n",
      " WindGustSpeed       | 56.0                                                                                                                   \n",
      " WindDir9am          | W                                                                                                                      \n",
      " WindDir3pm          | W                                                                                                                      \n",
      " WindSpeed9am        | 19.0                                                                                                                   \n",
      " WindSpeed3pm        | 24.0                                                                                                                   \n",
      " Humidity9am         | 55.0                                                                                                                   \n",
      " Humidity3pm         | 23.0                                                                                                                   \n",
      " Pressure9am         | 1009.2                                                                                                                 \n",
      " Pressure3pm         | 1005.4                                                                                                                 \n",
      " RainToday           | No                                                                                                                     \n",
      " RainTomorrow        | No                                                                                                                     \n",
      " WindGustDirIndex    | 9.0                                                                                                                    \n",
      " WindGustDirclassVec | (15,[9],[1.0])                                                                                                         \n",
      " WindDir9amIndex     | 6.0                                                                                                                    \n",
      " WindDir9amclassVec  | (15,[6],[1.0])                                                                                                         \n",
      " WindDir3pmIndex     | 1.0                                                                                                                    \n",
      " WindDir3pmclassVec  | (15,[1],[1.0])                                                                                                         \n",
      " RainTodayIndex      | 0.0                                                                                                                    \n",
      " RainTodayclassVec   | (1,[0],[1.0])                                                                                                          \n",
      " label               | 0.0                                                                                                                    \n",
      " features            | (56,[9,21,31,45,46,47,48,49,50,51,52,53,54,55],[1.0,1.0,1.0,1.0,14.6,29.7,0.2,56.0,19.0,24.0,55.0,23.0,1009.2,1005.4]) \n",
      "-RECORD 6-------------------------------------------------------------------------------------------------------------------------------------\n",
      " MinTemp             | 14.3                                                                                                                   \n",
      " MaxTemp             | 25.0                                                                                                                   \n",
      " Rainfall            | 0.0                                                                                                                    \n",
      " WindGustDir         | W                                                                                                                      \n",
      " WindGustSpeed       | 50.0                                                                                                                   \n",
      " WindDir9am          | SW                                                                                                                     \n",
      " WindDir3pm          | W                                                                                                                      \n",
      " WindSpeed9am        | 20.0                                                                                                                   \n",
      " WindSpeed3pm        | 24.0                                                                                                                   \n",
      " Humidity9am         | 49.0                                                                                                                   \n",
      " Humidity3pm         | 19.0                                                                                                                   \n",
      " Pressure9am         | 1009.6                                                                                                                 \n",
      " Pressure3pm         | 1008.2                                                                                                                 \n",
      " RainToday           | No                                                                                                                     \n",
      " RainTomorrow        | No                                                                                                                     \n",
      " WindGustDirIndex    | 0.0                                                                                                                    \n",
      " WindGustDirclassVec | (15,[0],[1.0])                                                                                                         \n",
      " WindDir9amIndex     | 7.0                                                                                                                    \n",
      " WindDir9amclassVec  | (15,[7],[1.0])                                                                                                         \n",
      " WindDir3pmIndex     | 1.0                                                                                                                    \n",
      " WindDir3pmclassVec  | (15,[1],[1.0])                                                                                                         \n",
      " RainTodayIndex      | 0.0                                                                                                                    \n",
      " RainTodayclassVec   | (1,[0],[1.0])                                                                                                          \n",
      " label               | 0.0                                                                                                                    \n",
      " features            | (56,[0,22,31,45,46,47,49,50,51,52,53,54,55],[1.0,1.0,1.0,1.0,14.3,25.0,50.0,20.0,24.0,49.0,19.0,1009.6,1008.2])        \n",
      "-RECORD 7-------------------------------------------------------------------------------------------------------------------------------------\n",
      " MinTemp             | 7.7                                                                                                                    \n",
      " MaxTemp             | 26.7                                                                                                                   \n",
      " Rainfall            | 0.0                                                                                                                    \n",
      " WindGustDir         | W                                                                                                                      \n",
      " WindGustSpeed       | 35.0                                                                                                                   \n",
      " WindDir9am          | SSE                                                                                                                    \n",
      " WindDir3pm          | W                                                                                                                      \n",
      " WindSpeed9am        | 6.0                                                                                                                    \n",
      " WindSpeed3pm        | 17.0                                                                                                                   \n",
      " Humidity9am         | 48.0                                                                                                                   \n",
      " Humidity3pm         | 19.0                                                                                                                   \n",
      " Pressure9am         | 1013.4                                                                                                                 \n",
      " Pressure3pm         | 1010.1                                                                                                                 \n",
      " RainToday           | No                                                                                                                     \n",
      " RainTomorrow        | No                                                                                                                     \n",
      " WindGustDirIndex    | 0.0                                                                                                                    \n",
      " WindGustDirclassVec | (15,[0],[1.0])                                                                                                         \n",
      " WindDir9amIndex     | 3.0                                                                                                                    \n",
      " WindDir9amclassVec  | (15,[3],[1.0])                                                                                                         \n",
      " WindDir3pmIndex     | 1.0                                                                                                                    \n",
      " WindDir3pmclassVec  | (15,[1],[1.0])                                                                                                         \n",
      " RainTodayIndex      | 0.0                                                                                                                    \n",
      " RainTodayclassVec   | (1,[0],[1.0])                                                                                                          \n",
      " label               | 0.0                                                                                                                    \n",
      " features            | (56,[0,18,31,45,46,47,49,50,51,52,53,54,55],[1.0,1.0,1.0,1.0,7.7,26.7,35.0,6.0,17.0,48.0,19.0,1013.4,1010.1])          \n",
      "-RECORD 8-------------------------------------------------------------------------------------------------------------------------------------\n",
      " MinTemp             | 9.7                                                                                                                    \n",
      " MaxTemp             | 31.9                                                                                                                   \n",
      " Rainfall            | 0.0                                                                                                                    \n",
      " WindGustDir         | NNW                                                                                                                    \n",
      " WindGustSpeed       | 80.0                                                                                                                   \n",
      " WindDir9am          | SE                                                                                                                     \n",
      " WindDir3pm          | NW                                                                                                                     \n",
      " WindSpeed9am        | 7.0                                                                                                                    \n",
      " WindSpeed3pm        | 28.0                                                                                                                   \n",
      " Humidity9am         | 42.0                                                                                                                   \n",
      " Humidity3pm         | 9.0                                                                                                                    \n",
      " Pressure9am         | 1008.9                                                                                                                 \n",
      " Pressure3pm         | 1003.6                                                                                                                 \n",
      " RainToday           | No                                                                                                                     \n",
      " RainTomorrow        | Yes                                                                                                                    \n",
      " WindGustDirIndex    | 14.0                                                                                                                   \n",
      " WindGustDirclassVec | (15,[14],[1.0])                                                                                                        \n",
      " WindDir9amIndex     | 1.0                                                                                                                    \n",
      " WindDir9amclassVec  | (15,[1],[1.0])                                                                                                         \n",
      " WindDir3pmIndex     | 8.0                                                                                                                    \n",
      " WindDir3pmclassVec  | (15,[8],[1.0])                                                                                                         \n",
      " RainTodayIndex      | 0.0                                                                                                                    \n",
      " RainTodayclassVec   | (1,[0],[1.0])                                                                                                          \n",
      " label               | 1.0                                                                                                                    \n",
      " features            | (56,[14,16,38,45,46,47,49,50,51,52,53,54,55],[1.0,1.0,1.0,1.0,9.7,31.9,80.0,7.0,28.0,42.0,9.0,1008.9,1003.6])          \n",
      "-RECORD 9-------------------------------------------------------------------------------------------------------------------------------------\n",
      " MinTemp             | 13.1                                                                                                                   \n",
      " MaxTemp             | 30.1                                                                                                                   \n",
      " Rainfall            | 1.4                                                                                                                    \n",
      " WindGustDir         | W                                                                                                                      \n",
      " WindGustSpeed       | 28.0                                                                                                                   \n",
      " WindDir9am          | S                                                                                                                      \n",
      " WindDir3pm          | SSE                                                                                                                    \n",
      " WindSpeed9am        | 15.0                                                                                                                   \n",
      " WindSpeed3pm        | 11.0                                                                                                                   \n",
      " Humidity9am         | 58.0                                                                                                                   \n",
      " Humidity3pm         | 27.0                                                                                                                   \n",
      " Pressure9am         | 1007.0                                                                                                                 \n",
      " Pressure3pm         | 1005.7                                                                                                                 \n",
      " RainToday           | Yes                                                                                                                    \n",
      " RainTomorrow        | No                                                                                                                     \n",
      " WindGustDirIndex    | 0.0                                                                                                                    \n",
      " WindGustDirclassVec | (15,[0],[1.0])                                                                                                         \n",
      " WindDir9amIndex     | 5.0                                                                                                                    \n",
      " WindDir9amclassVec  | (15,[5],[1.0])                                                                                                         \n",
      " WindDir3pmIndex     | 5.0                                                                                                                    \n",
      " WindDir3pmclassVec  | (15,[5],[1.0])                                                                                                         \n",
      " RainTodayIndex      | 1.0                                                                                                                    \n",
      " RainTodayclassVec   | (1,[],[])                                                                                                              \n",
      " label               | 0.0                                                                                                                    \n",
      " features            | (56,[0,20,35,46,47,48,49,50,51,52,53,54,55],[1.0,1.0,1.0,13.1,30.1,1.4,28.0,15.0,11.0,58.0,27.0,1007.0,1005.7])        \n",
      "only showing top 10 rows\n",
      "\n"
     ]
    }
   ],
   "source": [
    "## This is the glimpse of the transformed weather dataframe with two new columns that\n",
    "## are label and features where label is the target variable which is string indexed\n",
    "## and the features column which is a vector of all the feature values, the vector\n",
    "## has 3 components first is the size of the sparse vector, second is where the\n",
    "## vector is populated and the third are the feature values for each record.\n",
    "\n",
    "data.show(n=10,truncate=False,vertical=True)"
   ]
  },
  {
   "cell_type": "code",
   "execution_count": 24,
   "metadata": {},
   "outputs": [
    {
     "name": "stdout",
     "output_type": "stream",
     "text": [
      "root\n",
      " |-- label: double (nullable = false)\n",
      " |-- features: vector (nullable = true)\n",
      " |-- MinTemp: double (nullable = false)\n",
      " |-- MaxTemp: double (nullable = false)\n",
      " |-- Rainfall: double (nullable = false)\n",
      " |-- WindGustDir: string (nullable = false)\n",
      " |-- WindGustSpeed: double (nullable = true)\n",
      " |-- WindDir9am: string (nullable = false)\n",
      " |-- WindDir3pm: string (nullable = false)\n",
      " |-- WindSpeed9am: double (nullable = true)\n",
      " |-- WindSpeed3pm: double (nullable = true)\n",
      " |-- Humidity9am: double (nullable = true)\n",
      " |-- Humidity3pm: double (nullable = true)\n",
      " |-- Pressure9am: double (nullable = false)\n",
      " |-- Pressure3pm: double (nullable = false)\n",
      " |-- RainToday: string (nullable = false)\n",
      " |-- RainTomorrow: string (nullable = false)\n",
      "\n"
     ]
    }
   ],
   "source": [
    "## Choose only label and features to create a dataframe along with the original data\n",
    "## data columns thus removing the vector representations for each feature separately. \n",
    "selectedCols = ['label','features'] + cols\n",
    "#selectedCols\n",
    "data = data.select(selectedCols)\n",
    "## final dataframe that is going to be used for training the model.\n",
    "data.printSchema()"
   ]
  },
  {
   "cell_type": "markdown",
   "metadata": {},
   "source": [
    "### Train Test Split"
   ]
  },
  {
   "cell_type": "markdown",
   "metadata": {},
   "source": [
    "**We split the data into training and testing data, and we do a random split to provide an unbiased evaluation of a model fit on the training dataset**. "
   ]
  },
  {
   "cell_type": "code",
   "execution_count": 25,
   "metadata": {},
   "outputs": [
    {
     "name": "stdout",
     "output_type": "stream",
     "text": [
      "Training Dataset Count: 99765\n",
      "Test Dataset Count: 42428\n"
     ]
    }
   ],
   "source": [
    "## Here the seed is ser to 6969 but it can be set to any number and seed is used to\n",
    "## randomly split the data into train and test data from the same distributions \n",
    "## so basically both train and test data indices are of normal distribution and\n",
    "## unbiased. We perform a 70-30 split where train=70% of data and test=30% of data\n",
    "\n",
    "train, test = data.randomSplit([0.7, 0.3], seed = 6969)\n",
    "print(\"Training Dataset Count: \" + str(train.count())) # size of training data\n",
    "print(\"Test Dataset Count: \" + str(test.count())) # size of testing data"
   ]
  },
  {
   "cell_type": "markdown",
   "metadata": {},
   "source": [
    "### C: Apply Machine Learning Algorithms"
   ]
  },
  {
   "cell_type": "markdown",
   "metadata": {},
   "source": [
    "## Logistic Regression()"
   ]
  },
  {
   "cell_type": "markdown",
   "metadata": {},
   "source": [
    "In statistics, the logistic model/logit model is used to model the probability of a certain class or event occuring/taking place such as pass/fail, win/lose, alive/dead or healthy/sick. This can be extended to model several classes of events such as determining whether it will Rain tomorrow or not in this classification problem. Each value in the weather data would be assigned a probability between 0 and 1,i.e. the probability of that event happening and the sum always adds to 1 as the probability of an event happening can never be greater than 100%.\n",
    "\n",
    "Logistic regression is a statistical model that in its basic form uses a logistic function to model a binary dependent variable. In regression analysis, logistic regression/logit regression is estimating the parameters of a logistic model."
   ]
  },
  {
   "cell_type": "code",
   "execution_count": 26,
   "metadata": {},
   "outputs": [],
   "source": [
    "## Here we are training the model with the features present in the features column.\n",
    "## LogisticRegression takes the features column predicts the labels for each \n",
    "## record then this predicted labels are fit to the train dataset.\n",
    "\n",
    "lr = LogisticRegression(featuresCol = 'features', labelCol = 'label', maxIter=10)\n",
    "lrModel = lr.fit(train)"
   ]
  },
  {
   "cell_type": "code",
   "execution_count": 27,
   "metadata": {},
   "outputs": [],
   "source": [
    "## The trained model that is lr_model is then applied to the test data.\n",
    "## transform() takes unseen data that is test data and predicts the labels \n",
    "## for test data based on what it learned from the train data.\n",
    "\n",
    "predictions_lr = lrModel.transform(test)"
   ]
  },
  {
   "cell_type": "code",
   "execution_count": 28,
   "metadata": {},
   "outputs": [],
   "source": [
    "## This is a dataframe which contains the missclassification and rightly\n",
    "## classified labels basically the true positives and negatives and false\n",
    "## positives and negatives.\n",
    "\n",
    "predictions_logistic=predictions_lr.groupBy('label', 'prediction').count()"
   ]
  },
  {
   "cell_type": "markdown",
   "metadata": {},
   "source": [
    "## Confusion Matrix for Logistic Regression"
   ]
  },
  {
   "cell_type": "code",
   "execution_count": 29,
   "metadata": {},
   "outputs": [
    {
     "name": "stdout",
     "output_type": "stream",
     "text": [
      "+-----+----------+-----+\n",
      "|label|prediction|count|\n",
      "+-----+----------+-----+\n",
      "|  1.0|       1.0| 3848|\n",
      "|  0.0|       1.0| 2056|\n",
      "|  1.0|       0.0| 5714|\n",
      "|  0.0|       0.0|30810|\n",
      "+-----+----------+-----+\n",
      "\n"
     ]
    }
   ],
   "source": [
    "## It seemed better to display the confusion matrix along with model implemetation so \n",
    "## displayed the confusion matrix here.\n",
    "\n",
    "predictions_logistic.show()"
   ]
  },
  {
   "cell_type": "code",
   "execution_count": 30,
   "metadata": {},
   "outputs": [],
   "source": [
    "## We use multiclassifcation evaluator to evaluate the accuracy of the predicted labels\n",
    "## for the test set using the label and prediction column using the count of\n",
    "## falsely and rightly classified data,we use Multiclass evaluator even though it\n",
    "## is Binary Classification as multiclass is used for 2 or above classes,so\n",
    "## it gives the same accuracy as Binary evaluator so we can use either.\n",
    "## compute accuracy on the test set\n",
    "\n",
    "evaluator = MulticlassClassificationEvaluator(labelCol=\"label\", predictionCol=\"prediction\", metricName=\"accuracy\")\n",
    "\n",
    "## apply the evaluator to the predicted values\n",
    "\n",
    "accuracy_logistic= evaluator.evaluate(predictions_lr)\n"
   ]
  },
  {
   "cell_type": "code",
   "execution_count": 31,
   "metadata": {},
   "outputs": [
    {
     "name": "stdout",
     "output_type": "stream",
     "text": [
      "The accuracy for the Logistic Regression Model is: 81.6866220420477 %\n"
     ]
    }
   ],
   "source": [
    "print(\"The accuracy for the Logistic Regression Model is:\",accuracy_logistic * 100,\"%\")"
   ]
  },
  {
   "cell_type": "markdown",
   "metadata": {},
   "source": [
    "### DecisionTreeClassifier()"
   ]
  },
  {
   "cell_type": "markdown",
   "metadata": {},
   "source": [
    "*Decision tree learning uses a decision tree (as a predictive model) to go from observations about an item (represented in the branches) to conclusions about the item's target value (represented in the leaves). Tree models where the target variable can take a discrete set of values are called classification trees; in these tree structures, leaves represent class labels and branches represent conjunctions of features that lead to those class labels. Decision trees where the target variable can take continuous values (typically real numbers) are called regression trees.*\n",
    "<br>\n",
    "<br>\n",
    "*It calculates information gain on every junction of the branch based on the entropy of each element and makes a decision and keeps on doing that till it reaches the leaves which are the class labels.*\n"
   ]
  },
  {
   "cell_type": "code",
   "execution_count": 32,
   "metadata": {},
   "outputs": [],
   "source": [
    "## Here we are training the model with the features present in the features column.\n",
    "## DecisionTreeClassifier takes the features column predicts the labels for each \n",
    "## record then this predicted labels are fit to the train dataset.\n",
    "\n",
    "\n",
    "dt = DecisionTreeClassifier(labelCol=\"label\", featuresCol=\"features\")\n",
    "dt_model = dt.fit(train)\n",
    "\n",
    "## The trained model that is dt_model is then applied to the test data.\n",
    "## transform() takes unseen data that is test data and predicts the labels \n",
    "## for test data based on what it learned from the train data.\n",
    "\n",
    "\n",
    "predictions = dt_model.transform(test)\n",
    "\n",
    "## This is a dataframe which contains the missclassification and rightly\n",
    "## classified labels basically the true positives and negatives and false\n",
    "## positives and negatives.\n",
    "\n",
    "predictions_tree=predictions.groupBy(\"label\",\"prediction\").count()\n"
   ]
  },
  {
   "cell_type": "markdown",
   "metadata": {},
   "source": [
    "## Confusion Matrix for Decision Tree Classifer"
   ]
  },
  {
   "cell_type": "code",
   "execution_count": 33,
   "metadata": {},
   "outputs": [
    {
     "name": "stdout",
     "output_type": "stream",
     "text": [
      "+-----+----------+-----+\n",
      "|label|prediction|count|\n",
      "+-----+----------+-----+\n",
      "|  1.0|       1.0| 3598|\n",
      "|  0.0|       1.0| 1114|\n",
      "|  1.0|       0.0| 5964|\n",
      "|  0.0|       0.0|31752|\n",
      "+-----+----------+-----+\n",
      "\n"
     ]
    }
   ],
   "source": [
    "## It seemed better to display the confusion matrix along with model implemetation so \n",
    "## displayed the confusion matrix here.\n",
    "\n",
    "predictions_tree.show()"
   ]
  },
  {
   "cell_type": "code",
   "execution_count": 34,
   "metadata": {},
   "outputs": [],
   "source": [
    "## We use Multiclassifcation evaluator to evaluate the accuracy of the predicted labels\n",
    "## for the test set using the label and prediction column using the count of\n",
    "## falsely and rightly classified data,we use Multiclass evaluator even though it\n",
    "## is Binary Classification as multiclass is used for 2 or above classes,so\n",
    "## it gives the same accuracy as Binary evaluator so we can use either.\n",
    "\n",
    "\n",
    "evaluator = MulticlassClassificationEvaluator(\\\n",
    "\n",
    "labelCol=\"label\", predictionCol=\"prediction\",\\\n",
    "\n",
    "metricName=\"accuracy\")\n",
    "  \n",
    "## apply the evaluator to calculate the accuracy .  \n",
    "    \n",
    "accuracy = evaluator.evaluate(predictions)\n"
   ]
  },
  {
   "cell_type": "code",
   "execution_count": 35,
   "metadata": {},
   "outputs": [
    {
     "name": "stdout",
     "output_type": "stream",
     "text": [
      "The accuracy for the Decision Tree Classifier is: 83.31762043933252 %\n"
     ]
    }
   ],
   "source": [
    "print(\"The accuracy for the Decision Tree Classifier is:\",accuracy * 100,\"%\")"
   ]
  },
  {
   "cell_type": "markdown",
   "metadata": {},
   "source": [
    "### RandomForestClassifier()"
   ]
  },
  {
   "cell_type": "markdown",
   "metadata": {},
   "source": [
    "**Random forests** or **random decision forests** are an ensemble learning method for classification, regression and other tasks that operates by constructing a multitude of decision trees at training time and outputting the class that is the mode of the classes (classification) or mean prediction (regression) of the individual trees.<br>\n",
    "\n",
    "The difference between decsion tree and random forest is that decision tree illustrates every at each branch and random forest illustrates only the final outcome from all the branches."
   ]
  },
  {
   "cell_type": "code",
   "execution_count": 36,
   "metadata": {},
   "outputs": [],
   "source": [
    "## Here we are training the model with the features present in the features column.\n",
    "## RandomForestClassifier takes the features column predicts the labels for each \n",
    "## record then this predicted labels are fit to the train dataset.\n",
    "\n",
    "rf = RandomForestClassifier(labelCol=\"label\",\\\n",
    "featuresCol=\"features\", numTrees=10)\n",
    "\n",
    "rf_model = rf.fit(train)\n",
    "\n",
    "## The trained model that is rf_model is then applied to the test data.\n",
    "## transform() takes unseen data that is test data and predicts the labels \n",
    "## for test data based on what it learned from the train data.\n",
    "\n",
    "predictions_rf = rf_model.transform(test)\n",
    "\n",
    "## This is a dataframe which contains the missclassification and rightly\n",
    "## classified labels basically the true positives and negatives and false\n",
    "## positives and negatives.\n",
    "\n",
    "predictions_random_forest=predictions_rf.groupBy(\"label\",\"prediction\").count()\n",
    "\n"
   ]
  },
  {
   "cell_type": "markdown",
   "metadata": {},
   "source": [
    "## Confusion Matrix for Random Forest Classifier"
   ]
  },
  {
   "cell_type": "code",
   "execution_count": 37,
   "metadata": {},
   "outputs": [
    {
     "name": "stdout",
     "output_type": "stream",
     "text": [
      "+-----+----------+-----+\n",
      "|label|prediction|count|\n",
      "+-----+----------+-----+\n",
      "|  1.0|       1.0| 2612|\n",
      "|  0.0|       1.0|  610|\n",
      "|  1.0|       0.0| 6950|\n",
      "|  0.0|       0.0|32256|\n",
      "+-----+----------+-----+\n",
      "\n"
     ]
    }
   ],
   "source": [
    "## It seemed better to display the confusion matrix along with model implemetation so \n",
    "## displayed the confusion matrix here.\n",
    "\n",
    "predictions_random_forest.show()"
   ]
  },
  {
   "cell_type": "code",
   "execution_count": 38,
   "metadata": {},
   "outputs": [],
   "source": [
    "## We use multiclassifcation evaluator to evaluate the accuracy of the predicted labels\n",
    "## for the test set using the label and prediction column using the count of\n",
    "## falsely and rightly classified data, we use Multiclass evaluator even though it\n",
    "## is Binary Classification as multiclass is used for 2 or above classes,so\n",
    "## it gives the same accuracy as Binary evaluator so we can use either.\n",
    "\n",
    "evaluator =\\\n",
    "MulticlassClassificationEvaluator(labelCol=\"label\",\\\n",
    "predictionCol=\"prediction\", metricName=\"accuracy\")\n",
    "\n",
    "## apply the evaluator to the predictions to calculate accuracy.\n",
    "\n",
    "accuracy_rf = evaluator.evaluate(predictions_rf)\n"
   ]
  },
  {
   "cell_type": "code",
   "execution_count": 39,
   "metadata": {},
   "outputs": [
    {
     "name": "stdout",
     "output_type": "stream",
     "text": [
      "The accuracy for the Random Forest Classifier Model is: 82.18157820307344 %\n"
     ]
    }
   ],
   "source": [
    "print(\"The accuracy for the Random Forest Classifier Model is:\",accuracy_rf * 100,\"%\")"
   ]
  },
  {
   "cell_type": "markdown",
   "metadata": {},
   "source": [
    "### Gradient Boost Classifier()"
   ]
  },
  {
   "cell_type": "markdown",
   "metadata": {},
   "source": [
    "*Boosting* means combining simple and weak learners to create more accurate and powerful ones. Even if the accuracy is low, once the model is created, the weaknesses (forecasting errors) are complemented by the second model. \n"
   ]
  },
  {
   "cell_type": "code",
   "execution_count": 40,
   "metadata": {},
   "outputs": [],
   "source": [
    "## Here we are training the model with the features present in the features column.\n",
    "## GBTClassifier takes the features column predicts the labels for each \n",
    "## record then this predicted labels are fit to the train dataset.\n",
    "\n",
    "gbt = GBTClassifier(maxIter=10)\n",
    "gbtModel = gbt.fit(train)\n",
    "\n",
    "## The trained model that is gbtModel is then applied to the test data.\n",
    "## transform() takes unseen data that is test data and predicts the labels \n",
    "## for test data based on what it learned from the train data.\n",
    "\n",
    "predictions_gbt = gbtModel.transform(test)\n",
    "\n",
    "## This is a dataframe which contains the missclassification and rightly\n",
    "## classified labels basically the true positives and negatives and false\n",
    "## positives and negatives.\n",
    "\n",
    "predictions_gradient=predictions_gbt.groupBy(\"label\",\"prediction\").count()"
   ]
  },
  {
   "cell_type": "markdown",
   "metadata": {},
   "source": [
    "## Confusion Matrix for Gradient Boost Classifier"
   ]
  },
  {
   "cell_type": "code",
   "execution_count": 41,
   "metadata": {},
   "outputs": [
    {
     "name": "stdout",
     "output_type": "stream",
     "text": [
      "+-----+----------+-----+\n",
      "|label|prediction|count|\n",
      "+-----+----------+-----+\n",
      "|  1.0|       1.0| 4171|\n",
      "|  0.0|       1.0| 1420|\n",
      "|  1.0|       0.0| 5391|\n",
      "|  0.0|       0.0|31446|\n",
      "+-----+----------+-----+\n",
      "\n"
     ]
    }
   ],
   "source": [
    "## It seemed better to display the confusion matrix along with model implemetation so \n",
    "## displayed the confusion matrix here\n",
    "\n",
    "predictions_gradient.show()"
   ]
  },
  {
   "cell_type": "code",
   "execution_count": 42,
   "metadata": {},
   "outputs": [],
   "source": [
    "## We use multiclassifcation evaluator to evaluate the accuracy of the predicted labels\n",
    "## for the test set using the label and prediction column using the count of\n",
    "## falsely and rightly classified data, we use Multiclass evaluator even though it\n",
    "## is Binary Classification as multiclass is used for 2 or above classes,so\n",
    "## it gives the same accuracy as Binary evaluator so we can use either.\n",
    "\n",
    "evaluator =MulticlassClassificationEvaluator(labelCol=\"label\",\\\n",
    "predictionCol=\"prediction\", metricName=\"accuracy\")\n",
    "\n",
    "## Apply the evaluator to calculate accuracy. \n",
    "\n",
    "accuracy_gbt = evaluator.evaluate(predictions_gbt)\n"
   ]
  },
  {
   "cell_type": "code",
   "execution_count": 43,
   "metadata": {},
   "outputs": [
    {
     "name": "stdout",
     "output_type": "stream",
     "text": [
      "The accuracy for the Random Forest Classifier Model is: 83.94692184406523 %\n"
     ]
    }
   ],
   "source": [
    "print(\"The accuracy for the Random Forest Classifier Model is:\",accuracy_gbt * 100,\"%\")"
   ]
  },
  {
   "cell_type": "markdown",
   "metadata": {},
   "source": [
    "#### Model Comparision"
   ]
  },
  {
   "cell_type": "code",
   "execution_count": 44,
   "metadata": {},
   "outputs": [
    {
     "data": {
      "image/png": "[encoded data removed]",
      "text/plain": [
       "<Figure size 720x720 with 1 Axes>"
      ]
     },
     "metadata": {
      "needs_background": "light"
     },
     "output_type": "display_data"
    }
   ],
   "source": [
    "plt.figure(figsize=(10,10))\n",
    "font = {'weight' : 'bold',\n",
    "        'size'   : 15}\n",
    "models = ('logistic', 'decision tree', 'random_forest', 'GBT_Classifier')\n",
    "x_pos=np.arange(len(models))\n",
    "accuracies = [82.0502,83.8442,81.8122,84.05]\n",
    "\n",
    "plt.bar(x_pos, accuracies, align='center', color='#DC143C')\n",
    "\n",
    "plt.xticks(x_pos, models)\n",
    "plt.xlabel('Machine Learning Models')\n",
    "plt.ylabel('Accuracy Of Models')\n",
    "plt.title('Machine Learning Models Comaprision')\n",
    "\n",
    "plt.rc('font', **font)\n",
    "\n",
    "plt.show()"
   ]
  },
  {
   "cell_type": "markdown",
   "metadata": {},
   "source": [
    "**The accuracy is almost the same for all the models with Gradient Boost Classifier giving the highest accuracy as it uses a boosted algorithm so it is higher by 1% and the lowest being Random Forest. These models can predict it can rain tomorrow with 83% or 84% confidence basically if the probability of a record for it raining tomorrow is 50% or greater the predicted label is Yes otherwise No. So basically accuracy means that the model predicts right 83/84% of the times.**"
   ]
  },
  {
   "cell_type": "markdown",
   "metadata": {},
   "source": [
    "### Step 09: Find the precision, recall, and F1 score of each classification algorithm. Explain how the accuracy of the predication can be improved? These metrics are calculated for Rain Tomorrow(Target variable)=='Yes'(Label') "
   ]
  },
  {
   "cell_type": "markdown",
   "metadata": {},
   "source": [
    "`True Positive:` Postive values that were predicted as Positives ,<br>\n",
    "`True Negative:` Negative values that were predicted as Negatives ,<br>\n",
    "`False Positive:` Positive values that were predicted as Negative ,<br>\n",
    "`False Negative:` Negative values that were predicted as Positive ,<br>"
   ]
  },
  {
   "cell_type": "markdown",
   "metadata": {},
   "source": [
    "$$Precision = \\frac{True Postive}{True Positive + True negative}$$\n",
    "<br>\n",
    "$$ = \\frac{True Positive}{Total Predicted Positive}$$ <br>\n",
    "\n",
    "`Precision talks about how precise/accurate your model is out of those predicted positive, how many of them are actual positive.It is a good measure to determine when the costs of False Positive are high that means values that are actually positive but classified as negative.`"
   ]
  },
  {
   "cell_type": "markdown",
   "metadata": {},
   "source": [
    "$$Recall = \\frac{True Positive}{True Positive + False Positive}$$ <br>\n",
    "$$ = \\frac{True Positive}{Total Actual Positive}$$ <br>\n",
    "\n",
    "\n",
    "`Recall actually calculates how many of the Actual Positives our model capture through labeling it as Positive (True Positive).It is a good metric when the cost is high associated with False Negative.`"
   ]
  },
  {
   "cell_type": "markdown",
   "metadata": {},
   "source": [
    "$$ F1\\ Score  = 2 \\times \\frac{precision \\times recall}{precision + recall}$$\n",
    "<br>\n",
    "`Is a good metric when we want an even class distribution or a way to seek good balance of true negatives and true positives as the accuracy is mostly attributed by classifying true negatives more than true positives.`"
   ]
  },
  {
   "cell_type": "code",
   "execution_count": 45,
   "metadata": {},
   "outputs": [],
   "source": [
    "## Here we defined a function called conf_matrix which first identifies the count of true positives\n",
    "## and negatives and false positives and negatives and then calculated the\n",
    "## accuracy metrics using the formulae for those metrics.\n",
    "\n",
    "\n",
    "def conf_matrix(predictions_data):\n",
    "    tp = predictions_data[(predictions_data.label == 1) & (predictions_data.prediction == 1)].count()\n",
    "    tn = predictions_data[(predictions_data.label == 0) & (predictions_data.prediction == 0)].count()\n",
    "    fp = predictions_data[(predictions_data.label == 0) & (predictions_data.prediction == 1)].count()\n",
    "    fn = predictions_data[(predictions_data.label == 1) & (predictions_data.prediction == 0)].count()\n",
    "\n",
    "    recall = float(tp)/(tp + fn)\n",
    "\n",
    "\n",
    "    precision = float(tp) / (tp + fp)\n",
    "    \n",
    "    \n",
    "    \n",
    "    f1_score= 2 * ((precision*recall)/(precision+recall))\n",
    "    \n",
    "    return (\"The precision for the model is : {:.2f},   The recall for the model is: {:.2f},   The F1 Score for the model is: {:.2f}.\".format(precision, recall,f1_score))"
   ]
  },
  {
   "cell_type": "markdown",
   "metadata": {},
   "source": [
    "### Accuracy metrics for Gradient Boost Classifier "
   ]
  },
  {
   "cell_type": "code",
   "execution_count": 46,
   "metadata": {},
   "outputs": [
    {
     "data": {
      "text/plain": [
       "'The precision for the model is : 0.75,   The recall for the model is: 0.44,   The F1 Score for the model is: 0.55.'"
      ]
     },
     "execution_count": 46,
     "metadata": {},
     "output_type": "execute_result"
    }
   ],
   "source": [
    "conf_matrix(predictions_gbt)"
   ]
  },
  {
   "cell_type": "markdown",
   "metadata": {},
   "source": [
    "### Accuracy metrics for Logistic Regression"
   ]
  },
  {
   "cell_type": "code",
   "execution_count": 47,
   "metadata": {},
   "outputs": [
    {
     "data": {
      "text/plain": [
       "'The precision for the model is : 0.65,   The recall for the model is: 0.40,   The F1 Score for the model is: 0.50.'"
      ]
     },
     "execution_count": 47,
     "metadata": {},
     "output_type": "execute_result"
    }
   ],
   "source": [
    "conf_matrix(predictions_lr)"
   ]
  },
  {
   "cell_type": "markdown",
   "metadata": {},
   "source": [
    "### Accuracy metrics for Random Forest Classifier"
   ]
  },
  {
   "cell_type": "code",
   "execution_count": 48,
   "metadata": {},
   "outputs": [
    {
     "data": {
      "text/plain": [
       "'The precision for the model is : 0.81,   The recall for the model is: 0.27,   The F1 Score for the model is: 0.41.'"
      ]
     },
     "execution_count": 48,
     "metadata": {},
     "output_type": "execute_result"
    }
   ],
   "source": [
    "conf_matrix(predictions_rf)"
   ]
  },
  {
   "cell_type": "markdown",
   "metadata": {},
   "source": [
    "### Accuracy metrics for Decision Tree Classifier"
   ]
  },
  {
   "cell_type": "code",
   "execution_count": 49,
   "metadata": {},
   "outputs": [
    {
     "data": {
      "text/plain": [
       "'The precision for the model is : 0.76,   The recall for the model is: 0.38,   The F1 Score for the model is: 0.50.'"
      ]
     },
     "execution_count": 49,
     "metadata": {},
     "output_type": "execute_result"
    }
   ],
   "source": [
    "conf_matrix(predictions)"
   ]
  },
  {
   "cell_type": "markdown",
   "metadata": {},
   "source": [
    "*As we can see the F1 Score is consistenly small for all the models which means the class distribution is not equal for all both the classes and there are a more number of true negatives being classified than true positives. The `classfier with highest precision is Random Forest Classifier and Highest recall is for Gradient Boost Classifier and the Highest F1 Score for Gradient Boost Classifier.` As the classes are not evenly distributed accuracy may not be the right metric to determine the model goodness, based on recall the number of true negatives are being classified more and based on precision the number of true positives being classifed are less if a model has high recall then low precision so F1 score is a better balance between precsion and recall and would be a better judge of the goodness of the model.<br>\n",
    "So according to the F1 Score the Gradient Boost Classifier is a better model with a F1 Score of 0.5699 which is the highest  and would be a better model for predicting if it will rain tomorrow or not."
   ]
  },
  {
   "cell_type": "markdown",
   "metadata": {},
   "source": [
    "##### Explain how you can improve the accuracy of the prediction."
   ]
  },
  {
   "cell_type": "markdown",
   "metadata": {},
   "source": [
    "* The accuracy of the prediction can be increased by first checking which variables are highly correlated to the target variable then removing the features that have a positive correlation of less than 0.5 and a negative correlation less than -0.5 and after that then checking if the features have collinearty drop one of those features as that inflates the training metric and gives an inflated accuracy.\n",
    "<br>\n",
    "\n",
    "* Then check the data for outliers as that would prevent overfitting of the data as it would remove the noise from the data, on closer inspection Sunshine,Evaporation and \n",
    "Rainfall, if we had taken those features.\n",
    "<br>\n",
    "\n",
    "* As it seems like Location would actually be a good feature to predict whether it is going to rain tomorrow or not, and also the evaporation and sunshine but logically Sunshine and Evaportaion would be collinear so only one of them. Date also seems like a good feature.\n",
    "<br>\n",
    "\n",
    "* And stratified smapling should be performed as the number of negatives are considerably higher and that increases the bias which would result in high test error, and not much of the variance would be explained. "
   ]
  },
  {
   "cell_type": "code",
   "execution_count": 67,
   "metadata": {},
   "outputs": [
    {
     "name": "stdout",
     "output_type": "stream",
     "text": [
      "-RECORD 0---------------------------\n",
      " summary       | count              \n",
      " Location      | 142193             \n",
      " MinTemp       | 141556             \n",
      " MaxTemp       | 141871             \n",
      " Rainfall      | 140787             \n",
      " Evaporation   | 81350              \n",
      " Sunshine      | 74377              \n",
      " WindGustDir   | 132863             \n",
      " WindGustSpeed | 132923             \n",
      " WindDir9am    | 132180             \n",
      " WindDir3pm    | 138415             \n",
      " WindSpeed9am  | 140845             \n",
      " WindSpeed3pm  | 139563             \n",
      " Humidity9am   | 140419             \n",
      " Humidity3pm   | 138583             \n",
      " Pressure9am   | 128179             \n",
      " Pressure3pm   | 128212             \n",
      " Cloud9am      | 88536              \n",
      " Cloud3pm      | 85099              \n",
      " Temp9am       | 141289             \n",
      " Temp3pm       | 139467             \n",
      " RainToday     | 140787             \n",
      " RainTomorrow  | 142193             \n",
      "-RECORD 1---------------------------\n",
      " summary       | mean               \n",
      " Location      | null               \n",
      " MinTemp       | 12.186399728729311 \n",
      " MaxTemp       | 23.2267841912725   \n",
      " Rainfall      | 2.3499740743107442 \n",
      " Evaporation   | 5.469824216349093  \n",
      " Sunshine      | 7.624853113193647  \n",
      " WindGustDir   | null               \n",
      " WindGustSpeed | 39.98429165757619  \n",
      " WindDir9am    | null               \n",
      " WindDir3pm    | null               \n",
      " WindSpeed9am  | 14.001988000994    \n",
      " WindSpeed3pm  | 18.63757586179718  \n",
      " Humidity9am   | 68.8438103105705   \n",
      " Humidity3pm   | 51.482606091656265 \n",
      " Pressure9am   | 1017.6537584159615 \n",
      " Pressure3pm   | 1015.2582035378894 \n",
      " Cloud9am      | 4.437189391885787  \n",
      " Cloud3pm      | 4.503166899728551  \n",
      " Temp9am       | 16.9875085817013   \n",
      " Temp3pm       | 21.68723497314779  \n",
      " RainToday     | null               \n",
      " RainTomorrow  | null               \n",
      "-RECORD 2---------------------------\n",
      " summary       | stddev             \n",
      " Location      | null               \n",
      " MinTemp       | 6.403282674671338  \n",
      " MaxTemp       | 7.117618141018099  \n",
      " Rainfall      | 8.465172917616465  \n",
      " Evaporation   | 4.188536508895155  \n",
      " Sunshine      | 3.7815249942144593 \n",
      " WindGustDir   | null               \n",
      " WindGustSpeed | 13.588800765487749 \n",
      " WindDir9am    | null               \n",
      " WindDir3pm    | null               \n",
      " WindSpeed9am  | 8.893337098234483  \n",
      " WindSpeed3pm  | 8.803345036235536  \n",
      " Humidity9am   | 19.051292535336284 \n",
      " Humidity3pm   | 20.797771843698914 \n",
      " Pressure9am   | 7.105475711520793  \n",
      " Pressure3pm   | 7.036676783493697  \n",
      " Cloud9am      | 2.887015525733593  \n",
      " Cloud3pm      | 2.720632530403661  \n",
      " Temp9am       | 6.492838325478896  \n",
      " Temp3pm       | 6.937593868533724  \n",
      " RainToday     | null               \n",
      " RainTomorrow  | null               \n",
      "-RECORD 3---------------------------\n",
      " summary       | min                \n",
      " Location      | Adelaide           \n",
      " MinTemp       | -8.5               \n",
      " MaxTemp       | -4.8               \n",
      " Rainfall      | 0.0                \n",
      " Evaporation   | 0.0                \n",
      " Sunshine      | 0.0                \n",
      " WindGustDir   | E                  \n",
      " WindGustSpeed | 6                  \n",
      " WindDir9am    | E                  \n",
      " WindDir3pm    | E                  \n",
      " WindSpeed9am  | 0                  \n",
      " WindSpeed3pm  | 0                  \n",
      " Humidity9am   | 0                  \n",
      " Humidity3pm   | 0                  \n",
      " Pressure9am   | 980.5              \n",
      " Pressure3pm   | 977.1              \n",
      " Cloud9am      | 0                  \n",
      " Cloud3pm      | 0                  \n",
      " Temp9am       | -7.2               \n",
      " Temp3pm       | -5.4               \n",
      " RainToday     | No                 \n",
      " RainTomorrow  | No                 \n",
      "-RECORD 4---------------------------\n",
      " summary       | max                \n",
      " Location      | Woomera            \n",
      " MinTemp       | 33.9               \n",
      " MaxTemp       | 48.1               \n",
      " Rainfall      | 371.0              \n",
      " Evaporation   | 145.0              \n",
      " Sunshine      | 14.5               \n",
      " WindGustDir   | WSW                \n",
      " WindGustSpeed | 135                \n",
      " WindDir9am    | WSW                \n",
      " WindDir3pm    | WSW                \n",
      " WindSpeed9am  | 130                \n",
      " WindSpeed3pm  | 87                 \n",
      " Humidity9am   | 100                \n",
      " Humidity3pm   | 100                \n",
      " Pressure9am   | 1041.0             \n",
      " Pressure3pm   | 1039.6             \n",
      " Cloud9am      | 9                  \n",
      " Cloud3pm      | 9                  \n",
      " Temp9am       | 40.2               \n",
      " Temp3pm       | 46.7               \n",
      " RainToday     | Yes                \n",
      " RainTomorrow  | Yes                \n",
      "\n"
     ]
    }
   ],
   "source": [
    "df.describe().show(n=5,vertical=True)"
   ]
  },
  {
   "cell_type": "code",
   "execution_count": 88,
   "metadata": {},
   "outputs": [],
   "source": [
    "sc.stop()"
   ]
  },
  {
   "cell_type": "code",
   "execution_count": null,
   "metadata": {},
   "outputs": [],
   "source": []
  }
 ],
 "metadata": {
  "kernelspec": {
   "display_name": "Python 3",
   "language": "python",
   "name": "python3"
  },
  "language_info": {
   "codemirror_mode": {
    "name": "ipython",
    "version": 3
   },
   "file_extension": ".py",
   "mimetype": "text/x-python",
   "name": "python",
   "nbconvert_exporter": "python",
   "pygments_lexer": "ipython3",
   "version": "3.6.8"
  }
 },
 "nbformat": 4,
 "nbformat_minor": 2
}
